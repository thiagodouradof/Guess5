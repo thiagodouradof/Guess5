{
 "cells": [
  {
   "cell_type": "code",
   "execution_count": 1,
   "metadata": {},
   "outputs": [],
   "source": [
    "game_title = 'Guess5'\n",
    "word_bank = []\n",
    "with open('words.txt', 'r') as file:\n",
    "    for line in file:\n",
    "        word_bank.append(line.rstrip().lower())"
   ]
  },
  {
   "cell_type": "code",
   "execution_count": 2,
   "metadata": {},
   "outputs": [],
   "source": [
    "import random\n",
    "\n",
    "random_word = random.choice(word_bank)"
   ]
  },
  {
   "cell_type": "code",
   "execution_count": null,
   "metadata": {},
   "outputs": [],
   "source": [
    "incorrect_guesses = []\n",
    "nonexistent_letters = []\n",
    "max_turns = 10\n",
    "current_turn = 0\n",
    "\n",
    "print(f\"Welcome to {game_title}!\")\n",
    "print(f\"The word to guess has {len(random_word)} letters.\")\n",
    "print(f\"You have {max_turns} turns to guess the word.\")"
   ]
  },
  {
   "cell_type": "code",
   "execution_count": null,
   "metadata": {},
   "outputs": [],
   "source": [
    "while current_turn < max_turns:\n",
    "    player_guess = input(\"Enter your 5-letter guess: \").lower()\n",
    "\n",
    "    i = 0\n",
    "\n",
    "    for i in range(len(player_guess)):\n",
    "        if player_guess[i] == random_word[i]:\n",
    "            print(player_guess[i], end=\"\")\n",
    "            if player_guess[i] in incorrect_guesses:\n",
    "                incorrect_guesses.remove(player_guess[i])\n",
    "        elif player_guess[i] in random_word:\n",
    "            if player_guess[i] not in incorrect_guesses:\n",
    "                incorrect_guesses.append(player_guess[i]) \n",
    "            print(\"_\", end=\"\") \n",
    "        else:\n",
    "            if player_guess[i] not in nonexistent_letters:\n",
    "                nonexistent_letters.append(player_guess[i])\n",
    "            print(\"_\", end=\"\") \n",
    "    print()\n",
    "\n",
    "    print(f\"Incorrectly positioned letters: {', '.join(incorrect_guesses)}\")\n",
    "    print(f\"Letters not in the word: {', '.join(nonexistent_letters)}\")\n",
    "\n",
    "    if player_guess == random_word:\n",
    "        print(\"Congratulations, you won!\")\n",
    "        break\n",
    "\n",
    "    if current_turn == max_turns - 1:\n",
    "        print(f\"Sorry, you lost. The word was {random_word}.\")\n",
    "        break\n",
    "\n",
    "    print(f\"You have {max_turns - current_turn - 1} turns left.\")\n",
    "\n",
    "\n",
    "    current_turn += 1"
   ]
  }
 ],
 "metadata": {
  "kernelspec": {
   "display_name": "Python 3 (ipykernel)",
   "language": "python",
   "name": "python3"
  },
  "language_info": {
   "codemirror_mode": {
    "name": "ipython",
    "version": 3
   },
   "file_extension": ".py",
   "mimetype": "text/x-python",
   "name": "python",
   "nbconvert_exporter": "python",
   "pygments_lexer": "ipython3",
   "version": "3.11.9"
  }
 },
 "nbformat": 4,
 "nbformat_minor": 4
}
